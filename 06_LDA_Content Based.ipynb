{
 "cells": [
  {
   "cell_type": "markdown",
   "metadata": {},
   "source": [
    "# Latent Dirichlet Allocation(LDA)-content based recommender system"
   ]
  },
  {
   "cell_type": "markdown",
   "metadata": {},
   "source": [
    "LDA is a form of unsupervised learning that views documents as bags of words. In this notebook, the ingradients of each recipe are treated as a document. The number of topics is set to be 25 and 100 respectively. A given query will return top 5 recommendations by the similarity score. "
   ]
  },
  {
   "cell_type": "code",
   "execution_count": 1,
   "metadata": {},
   "outputs": [],
   "source": [
    "#Import Libraries\n",
    "import pandas as pd\n",
    "import numpy as np\n",
    "import gensim\n",
    "from gensim.models.ldamodel import LdaModel\n",
    "from gensim import models, similarities\n",
    "from gensim.corpora import Dictionary"
   ]
  },
  {
   "cell_type": "code",
   "execution_count": 2,
   "metadata": {},
   "outputs": [],
   "source": [
    "#Read in raw csv data for recipes\n",
    "recipes = pd.read_csv('data/RAW_recipes.csv')"
   ]
  },
  {
   "cell_type": "code",
   "execution_count": 3,
   "metadata": {},
   "outputs": [
    {
     "data": {
      "text/plain": [
       "(231637, 12)"
      ]
     },
     "execution_count": 3,
     "metadata": {},
     "output_type": "execute_result"
    }
   ],
   "source": [
    "# confirm there are 231,637 recipes and 12 columns\n",
    "recipes.shape"
   ]
  },
  {
   "cell_type": "code",
   "execution_count": 4,
   "metadata": {},
   "outputs": [],
   "source": [
    "# change string to list for ingredients column\n",
    "recipes['ingredients'] = recipes['ingredients'].apply(lambda s: eval(s))"
   ]
  },
  {
   "cell_type": "code",
   "execution_count": 5,
   "metadata": {
    "scrolled": true
   },
   "outputs": [
    {
     "data": {
      "text/html": [
       "<div>\n",
       "<style scoped>\n",
       "    .dataframe tbody tr th:only-of-type {\n",
       "        vertical-align: middle;\n",
       "    }\n",
       "\n",
       "    .dataframe tbody tr th {\n",
       "        vertical-align: top;\n",
       "    }\n",
       "\n",
       "    .dataframe thead th {\n",
       "        text-align: right;\n",
       "    }\n",
       "</style>\n",
       "<table border=\"1\" class=\"dataframe\">\n",
       "  <thead>\n",
       "    <tr style=\"text-align: right;\">\n",
       "      <th></th>\n",
       "      <th>name</th>\n",
       "      <th>id</th>\n",
       "      <th>minutes</th>\n",
       "      <th>contributor_id</th>\n",
       "      <th>submitted</th>\n",
       "      <th>tags</th>\n",
       "      <th>nutrition</th>\n",
       "      <th>n_steps</th>\n",
       "      <th>steps</th>\n",
       "      <th>description</th>\n",
       "      <th>ingredients</th>\n",
       "      <th>n_ingredients</th>\n",
       "    </tr>\n",
       "  </thead>\n",
       "  <tbody>\n",
       "    <tr>\n",
       "      <th>0</th>\n",
       "      <td>arriba   baked winter squash mexican style</td>\n",
       "      <td>137739</td>\n",
       "      <td>55</td>\n",
       "      <td>47892</td>\n",
       "      <td>2005-09-16</td>\n",
       "      <td>['60-minutes-or-less', 'time-to-make', 'course...</td>\n",
       "      <td>[51.5, 0.0, 13.0, 0.0, 2.0, 0.0, 4.0]</td>\n",
       "      <td>11</td>\n",
       "      <td>['make a choice and proceed with recipe', 'dep...</td>\n",
       "      <td>autumn is my favorite time of year to cook! th...</td>\n",
       "      <td>[winter squash, mexican seasoning, mixed spice...</td>\n",
       "      <td>7</td>\n",
       "    </tr>\n",
       "    <tr>\n",
       "      <th>1</th>\n",
       "      <td>a bit different  breakfast pizza</td>\n",
       "      <td>31490</td>\n",
       "      <td>30</td>\n",
       "      <td>26278</td>\n",
       "      <td>2002-06-17</td>\n",
       "      <td>['30-minutes-or-less', 'time-to-make', 'course...</td>\n",
       "      <td>[173.4, 18.0, 0.0, 17.0, 22.0, 35.0, 1.0]</td>\n",
       "      <td>9</td>\n",
       "      <td>['preheat oven to 425 degrees f', 'press dough...</td>\n",
       "      <td>this recipe calls for the crust to be prebaked...</td>\n",
       "      <td>[prepared pizza crust, sausage patty, eggs, mi...</td>\n",
       "      <td>6</td>\n",
       "    </tr>\n",
       "    <tr>\n",
       "      <th>2</th>\n",
       "      <td>all in the kitchen  chili</td>\n",
       "      <td>112140</td>\n",
       "      <td>130</td>\n",
       "      <td>196586</td>\n",
       "      <td>2005-02-25</td>\n",
       "      <td>['time-to-make', 'course', 'preparation', 'mai...</td>\n",
       "      <td>[269.8, 22.0, 32.0, 48.0, 39.0, 27.0, 5.0]</td>\n",
       "      <td>6</td>\n",
       "      <td>['brown ground beef in large pot', 'add choppe...</td>\n",
       "      <td>this modified version of 'mom's' chili was a h...</td>\n",
       "      <td>[ground beef, yellow onions, diced tomatoes, t...</td>\n",
       "      <td>13</td>\n",
       "    </tr>\n",
       "  </tbody>\n",
       "</table>\n",
       "</div>"
      ],
      "text/plain": [
       "                                         name      id  minutes  \\\n",
       "0  arriba   baked winter squash mexican style  137739       55   \n",
       "1            a bit different  breakfast pizza   31490       30   \n",
       "2                   all in the kitchen  chili  112140      130   \n",
       "\n",
       "   contributor_id   submitted  \\\n",
       "0           47892  2005-09-16   \n",
       "1           26278  2002-06-17   \n",
       "2          196586  2005-02-25   \n",
       "\n",
       "                                                tags  \\\n",
       "0  ['60-minutes-or-less', 'time-to-make', 'course...   \n",
       "1  ['30-minutes-or-less', 'time-to-make', 'course...   \n",
       "2  ['time-to-make', 'course', 'preparation', 'mai...   \n",
       "\n",
       "                                    nutrition  n_steps  \\\n",
       "0       [51.5, 0.0, 13.0, 0.0, 2.0, 0.0, 4.0]       11   \n",
       "1   [173.4, 18.0, 0.0, 17.0, 22.0, 35.0, 1.0]        9   \n",
       "2  [269.8, 22.0, 32.0, 48.0, 39.0, 27.0, 5.0]        6   \n",
       "\n",
       "                                               steps  \\\n",
       "0  ['make a choice and proceed with recipe', 'dep...   \n",
       "1  ['preheat oven to 425 degrees f', 'press dough...   \n",
       "2  ['brown ground beef in large pot', 'add choppe...   \n",
       "\n",
       "                                         description  \\\n",
       "0  autumn is my favorite time of year to cook! th...   \n",
       "1  this recipe calls for the crust to be prebaked...   \n",
       "2  this modified version of 'mom's' chili was a h...   \n",
       "\n",
       "                                         ingredients  n_ingredients  \n",
       "0  [winter squash, mexican seasoning, mixed spice...              7  \n",
       "1  [prepared pizza crust, sausage patty, eggs, mi...              6  \n",
       "2  [ground beef, yellow onions, diced tomatoes, t...             13  "
      ]
     },
     "execution_count": 5,
     "metadata": {},
     "output_type": "execute_result"
    }
   ],
   "source": [
    "# take a look at the first few recipes and understand the data structure\n",
    "recipes.head(3)"
   ]
  },
  {
   "cell_type": "code",
   "execution_count": 6,
   "metadata": {},
   "outputs": [],
   "source": [
    "# make dictionary to include all of the ingredient words. Use the ingredient to make recommendations\n",
    "dictionary = Dictionary([ing for ing in recipes['ingredients']])"
   ]
  },
  {
   "cell_type": "code",
   "execution_count": 7,
   "metadata": {
    "scrolled": true
   },
   "outputs": [
    {
     "data": {
      "text/plain": [
       "14942"
      ]
     },
     "execution_count": 7,
     "metadata": {},
     "output_type": "execute_result"
    }
   ],
   "source": [
    "# check how many words in the dictionary\n",
    "len(dictionary)"
   ]
  },
  {
   "cell_type": "code",
   "execution_count": 8,
   "metadata": {
    "scrolled": true
   },
   "outputs": [
    {
     "data": {
      "text/plain": [
       "['spreadable cheese with garlic and herbs',\n",
       " 'new potatoes',\n",
       " 'shallots',\n",
       " 'parsley',\n",
       " 'tarragon',\n",
       " 'olive oil',\n",
       " 'red wine vinegar',\n",
       " 'salt',\n",
       " 'pepper',\n",
       " 'red bell pepper',\n",
       " 'yellow bell pepper']"
      ]
     },
     "execution_count": 8,
     "metadata": {},
     "output_type": "execute_result"
    }
   ],
   "source": [
    "#check ingredients column is a list of words. \n",
    "recipes['ingredients'][3]"
   ]
  },
  {
   "cell_type": "code",
   "execution_count": 9,
   "metadata": {},
   "outputs": [],
   "source": [
    "# build corpus for each ingredient by using bag of words\n",
    "corpus = [dictionary.doc2bow(text) for text in recipes['ingredients']]"
   ]
  },
  {
   "cell_type": "code",
   "execution_count": 10,
   "metadata": {},
   "outputs": [
    {
     "data": {
      "text/plain": [
       "231637"
      ]
     },
     "execution_count": 10,
     "metadata": {},
     "output_type": "execute_result"
    }
   ],
   "source": [
    "#length of the corpus is the same as the number of ingredients in the dataset\n",
    "len(corpus)"
   ]
  },
  {
   "cell_type": "code",
   "execution_count": 11,
   "metadata": {},
   "outputs": [],
   "source": [
    "#build LDA model with 30 topics by using all of the ingredient words\n",
    "ldamodel = LdaModel(corpus,num_topics = 30, passes = 10,random_state = 42, id2word = dictionary)"
   ]
  },
  {
   "cell_type": "code",
   "execution_count": 12,
   "metadata": {},
   "outputs": [],
   "source": [
    "#build similarity matrix based on LDA model, and the ingredient of each \n",
    "index = similarities.MatrixSimilarity(ldamodel[corpus])"
   ]
  },
  {
   "cell_type": "code",
   "execution_count": 13,
   "metadata": {},
   "outputs": [],
   "source": [
    "#user input a query, a string of possible ingredients seperated by comma\n",
    "# query = 'chocolate cookies, baked potatoes, eggs, cheese, chichen'\n",
    "query = 'winter squash, mexican seasoning, mixed spice, honey, butter, olive oil, salt'"
   ]
  },
  {
   "cell_type": "code",
   "execution_count": 14,
   "metadata": {},
   "outputs": [],
   "source": [
    "#change the user input ingredients to a bag of words.\n",
    "query_bow = dictionary.doc2bow(query.lower().split(', '))"
   ]
  },
  {
   "cell_type": "code",
   "execution_count": 15,
   "metadata": {},
   "outputs": [],
   "source": [
    "#map the user input ingredients to a 30 dimension vector, corresponding to the 30 topics generated by the LDA model\n",
    "query_vector = ldamodel[query_bow]"
   ]
  },
  {
   "cell_type": "code",
   "execution_count": 16,
   "metadata": {},
   "outputs": [
    {
     "data": {
      "text/plain": [
       "[(13, 0.48639968), (24, 0.13133611), (27, 0.26975682)]"
      ]
     },
     "execution_count": 16,
     "metadata": {},
     "output_type": "execute_result"
    }
   ],
   "source": [
    "query_vector"
   ]
  },
  {
   "cell_type": "code",
   "execution_count": 17,
   "metadata": {},
   "outputs": [],
   "source": [
    "#find cosine similarities of the user input query with the existing 231637 ingredients.\n",
    "sims = index[query_vector]"
   ]
  },
  {
   "cell_type": "code",
   "execution_count": 18,
   "metadata": {},
   "outputs": [
    {
     "data": {
      "text/plain": [
       "array([1., 0., 0., ..., 0., 0., 0.], dtype=float32)"
      ]
     },
     "execution_count": 18,
     "metadata": {},
     "output_type": "execute_result"
    }
   ],
   "source": [
    "# check similarity array, values are in [0,1]\n",
    "sims"
   ]
  },
  {
   "cell_type": "code",
   "execution_count": 19,
   "metadata": {},
   "outputs": [],
   "source": [
    "# sort the similarity score from highest to lowest to find most relavant ones\n",
    "sim_rank = sorted(enumerate(sims), key=lambda item: item[1], reverse=True)"
   ]
  },
  {
   "cell_type": "code",
   "execution_count": 20,
   "metadata": {},
   "outputs": [
    {
     "data": {
      "text/plain": [
       "(0, 1.0)"
      ]
     },
     "execution_count": 20,
     "metadata": {},
     "output_type": "execute_result"
    }
   ],
   "source": [
    "sim_rank[0]"
   ]
  },
  {
   "cell_type": "code",
   "execution_count": 21,
   "metadata": {},
   "outputs": [],
   "source": [
    "#choose top 5 rank in similarity\n",
    "top_5 = sim_rank[:5]"
   ]
  },
  {
   "cell_type": "code",
   "execution_count": 22,
   "metadata": {},
   "outputs": [
    {
     "data": {
      "text/plain": [
       "[(0, 1.0),\n",
       " (91318, 0.9725976),\n",
       " (150490, 0.97194046),\n",
       " (67211, 0.9719329),\n",
       " (143749, 0.9719295)]"
      ]
     },
     "execution_count": 22,
     "metadata": {},
     "output_type": "execute_result"
    }
   ],
   "source": [
    "#show top 5 with the index number and similarity score of 1.0\n",
    "top_5"
   ]
  },
  {
   "cell_type": "code",
   "execution_count": 23,
   "metadata": {},
   "outputs": [],
   "source": [
    "#save the indexes of the top 5 similar recipes in a list\n",
    "top_select_number = [top_5[i][0] for i in range(5)]"
   ]
  },
  {
   "cell_type": "code",
   "execution_count": 24,
   "metadata": {},
   "outputs": [
    {
     "data": {
      "text/html": [
       "<div>\n",
       "<style scoped>\n",
       "    .dataframe tbody tr th:only-of-type {\n",
       "        vertical-align: middle;\n",
       "    }\n",
       "\n",
       "    .dataframe tbody tr th {\n",
       "        vertical-align: top;\n",
       "    }\n",
       "\n",
       "    .dataframe thead th {\n",
       "        text-align: right;\n",
       "    }\n",
       "</style>\n",
       "<table border=\"1\" class=\"dataframe\">\n",
       "  <thead>\n",
       "    <tr style=\"text-align: right;\">\n",
       "      <th></th>\n",
       "      <th>name</th>\n",
       "      <th>id</th>\n",
       "      <th>minutes</th>\n",
       "      <th>contributor_id</th>\n",
       "      <th>submitted</th>\n",
       "      <th>tags</th>\n",
       "      <th>nutrition</th>\n",
       "      <th>n_steps</th>\n",
       "      <th>steps</th>\n",
       "      <th>description</th>\n",
       "      <th>ingredients</th>\n",
       "      <th>n_ingredients</th>\n",
       "    </tr>\n",
       "  </thead>\n",
       "  <tbody>\n",
       "    <tr>\n",
       "      <th>0</th>\n",
       "      <td>arriba   baked winter squash mexican style</td>\n",
       "      <td>137739</td>\n",
       "      <td>55</td>\n",
       "      <td>47892</td>\n",
       "      <td>2005-09-16</td>\n",
       "      <td>['60-minutes-or-less', 'time-to-make', 'course...</td>\n",
       "      <td>[51.5, 0.0, 13.0, 0.0, 2.0, 0.0, 4.0]</td>\n",
       "      <td>11</td>\n",
       "      <td>['make a choice and proceed with recipe', 'dep...</td>\n",
       "      <td>autumn is my favorite time of year to cook! th...</td>\n",
       "      <td>[winter squash, mexican seasoning, mixed spice...</td>\n",
       "      <td>7</td>\n",
       "    </tr>\n",
       "    <tr>\n",
       "      <th>91318</th>\n",
       "      <td>german erdbeer bowle  strawberry wine punch</td>\n",
       "      <td>34268</td>\n",
       "      <td>180</td>\n",
       "      <td>27783</td>\n",
       "      <td>2002-07-15</td>\n",
       "      <td>['weeknight', 'time-to-make', 'course', 'main-...</td>\n",
       "      <td>[462.4, 0.0, 158.0, 0.0, 1.0, 0.0, 16.0]</td>\n",
       "      <td>9</td>\n",
       "      <td>['2-3 hours before your guests arrive , wash t...</td>\n",
       "      <td>germans often serve a delicious bowle at summe...</td>\n",
       "      <td>[fresh strawberries, powdered sugar, lemon bal...</td>\n",
       "      <td>5</td>\n",
       "    </tr>\n",
       "    <tr>\n",
       "      <th>150490</th>\n",
       "      <td>outback croutons</td>\n",
       "      <td>157524</td>\n",
       "      <td>60</td>\n",
       "      <td>296349</td>\n",
       "      <td>2006-02-24</td>\n",
       "      <td>['60-minutes-or-less', 'time-to-make', 'course...</td>\n",
       "      <td>[437.0, 58.0, 7.0, 22.0, 7.0, 118.0, 7.0]</td>\n",
       "      <td>18</td>\n",
       "      <td>['take any amount of bread', 'get an electric ...</td>\n",
       "      <td>hi there folks. i used to be a hot-side and co...</td>\n",
       "      <td>[bread, butter, garlic]</td>\n",
       "      <td>3</td>\n",
       "    </tr>\n",
       "    <tr>\n",
       "      <th>67211</th>\n",
       "      <td>crunchy garlic croutons</td>\n",
       "      <td>385865</td>\n",
       "      <td>7</td>\n",
       "      <td>967561</td>\n",
       "      <td>2009-08-17</td>\n",
       "      <td>['15-minutes-or-less', 'time-to-make', 'course...</td>\n",
       "      <td>[44.7, 0.0, 2.0, 3.0, 2.0, 0.0, 2.0]</td>\n",
       "      <td>6</td>\n",
       "      <td>['toast the bread', 'crush the garlic and mix ...</td>\n",
       "      <td>these are great with soups and salads and it a...</td>\n",
       "      <td>[bread, garlic clove, butter]</td>\n",
       "      <td>3</td>\n",
       "    </tr>\n",
       "    <tr>\n",
       "      <th>143749</th>\n",
       "      <td>nif s bread crackers in a pinch</td>\n",
       "      <td>470749</td>\n",
       "      <td>27</td>\n",
       "      <td>65502</td>\n",
       "      <td>2011-12-29</td>\n",
       "      <td>['30-minutes-or-less', 'time-to-make', 'course...</td>\n",
       "      <td>[80.5, 5.0, 3.0, 5.0, 3.0, 10.0, 3.0]</td>\n",
       "      <td>11</td>\n",
       "      <td>['preheat oven to 400f line a cookie sheet wit...</td>\n",
       "      <td>i was making appetizers for a work christmas p...</td>\n",
       "      <td>[bread, butter, garlic clove]</td>\n",
       "      <td>3</td>\n",
       "    </tr>\n",
       "  </tbody>\n",
       "</table>\n",
       "</div>"
      ],
      "text/plain": [
       "                                               name      id  minutes  \\\n",
       "0        arriba   baked winter squash mexican style  137739       55   \n",
       "91318   german erdbeer bowle  strawberry wine punch   34268      180   \n",
       "150490                             outback croutons  157524       60   \n",
       "67211                       crunchy garlic croutons  385865        7   \n",
       "143749              nif s bread crackers in a pinch  470749       27   \n",
       "\n",
       "        contributor_id   submitted  \\\n",
       "0                47892  2005-09-16   \n",
       "91318            27783  2002-07-15   \n",
       "150490          296349  2006-02-24   \n",
       "67211           967561  2009-08-17   \n",
       "143749           65502  2011-12-29   \n",
       "\n",
       "                                                     tags  \\\n",
       "0       ['60-minutes-or-less', 'time-to-make', 'course...   \n",
       "91318   ['weeknight', 'time-to-make', 'course', 'main-...   \n",
       "150490  ['60-minutes-or-less', 'time-to-make', 'course...   \n",
       "67211   ['15-minutes-or-less', 'time-to-make', 'course...   \n",
       "143749  ['30-minutes-or-less', 'time-to-make', 'course...   \n",
       "\n",
       "                                        nutrition  n_steps  \\\n",
       "0           [51.5, 0.0, 13.0, 0.0, 2.0, 0.0, 4.0]       11   \n",
       "91318    [462.4, 0.0, 158.0, 0.0, 1.0, 0.0, 16.0]        9   \n",
       "150490  [437.0, 58.0, 7.0, 22.0, 7.0, 118.0, 7.0]       18   \n",
       "67211        [44.7, 0.0, 2.0, 3.0, 2.0, 0.0, 2.0]        6   \n",
       "143749      [80.5, 5.0, 3.0, 5.0, 3.0, 10.0, 3.0]       11   \n",
       "\n",
       "                                                    steps  \\\n",
       "0       ['make a choice and proceed with recipe', 'dep...   \n",
       "91318   ['2-3 hours before your guests arrive , wash t...   \n",
       "150490  ['take any amount of bread', 'get an electric ...   \n",
       "67211   ['toast the bread', 'crush the garlic and mix ...   \n",
       "143749  ['preheat oven to 400f line a cookie sheet wit...   \n",
       "\n",
       "                                              description  \\\n",
       "0       autumn is my favorite time of year to cook! th...   \n",
       "91318   germans often serve a delicious bowle at summe...   \n",
       "150490  hi there folks. i used to be a hot-side and co...   \n",
       "67211   these are great with soups and salads and it a...   \n",
       "143749  i was making appetizers for a work christmas p...   \n",
       "\n",
       "                                              ingredients  n_ingredients  \n",
       "0       [winter squash, mexican seasoning, mixed spice...              7  \n",
       "91318   [fresh strawberries, powdered sugar, lemon bal...              5  \n",
       "150490                            [bread, butter, garlic]              3  \n",
       "67211                       [bread, garlic clove, butter]              3  \n",
       "143749                      [bread, butter, garlic clove]              3  "
      ]
     },
     "execution_count": 24,
     "metadata": {},
     "output_type": "execute_result"
    }
   ],
   "source": [
    "# show the top 5 recipes with the highest similarity scores from the 231637 recipes\n",
    "recipes.iloc[top_select_number]"
   ]
  },
  {
   "cell_type": "markdown",
   "metadata": {},
   "source": [
    "## Repeat the model with 100 topics"
   ]
  },
  {
   "cell_type": "code",
   "execution_count": 25,
   "metadata": {},
   "outputs": [],
   "source": [
    "ldamodel_100 = LdaModel(corpus,num_topics = 100, passes = 10,random_state = 42, id2word = dictionary)"
   ]
  },
  {
   "cell_type": "code",
   "execution_count": 26,
   "metadata": {},
   "outputs": [],
   "source": [
    "index_100 = similarities.MatrixSimilarity(ldamodel_100[corpus])"
   ]
  },
  {
   "cell_type": "code",
   "execution_count": 27,
   "metadata": {},
   "outputs": [],
   "source": [
    "query_100 = 'winter squash, mexican seasoning, mixed spice, honey, butter, olive oil, salt'"
   ]
  },
  {
   "cell_type": "code",
   "execution_count": 28,
   "metadata": {},
   "outputs": [],
   "source": [
    "query_bow_100 = dictionary.doc2bow(query_100.lower().split(', '))"
   ]
  },
  {
   "cell_type": "code",
   "execution_count": 29,
   "metadata": {},
   "outputs": [],
   "source": [
    "query_vector_100 = ldamodel_100[query_bow_100]"
   ]
  },
  {
   "cell_type": "code",
   "execution_count": 30,
   "metadata": {},
   "outputs": [
    {
     "data": {
      "text/plain": [
       "[(65, 0.268383), (79, 0.568281)]"
      ]
     },
     "execution_count": 30,
     "metadata": {},
     "output_type": "execute_result"
    }
   ],
   "source": [
    "query_vector_100"
   ]
  },
  {
   "cell_type": "code",
   "execution_count": 31,
   "metadata": {},
   "outputs": [],
   "source": [
    "sims_100 = index_100[query_vector_100]\n",
    "sim_rank_100 = sorted(enumerate(sims_100), key=lambda item: item[1], reverse=True)"
   ]
  },
  {
   "cell_type": "code",
   "execution_count": 32,
   "metadata": {},
   "outputs": [],
   "source": [
    "top_5_100 = sim_rank_100[:5]"
   ]
  },
  {
   "cell_type": "code",
   "execution_count": 33,
   "metadata": {
    "scrolled": false
   },
   "outputs": [
    {
     "data": {
      "text/html": [
       "<div>\n",
       "<style scoped>\n",
       "    .dataframe tbody tr th:only-of-type {\n",
       "        vertical-align: middle;\n",
       "    }\n",
       "\n",
       "    .dataframe tbody tr th {\n",
       "        vertical-align: top;\n",
       "    }\n",
       "\n",
       "    .dataframe thead th {\n",
       "        text-align: right;\n",
       "    }\n",
       "</style>\n",
       "<table border=\"1\" class=\"dataframe\">\n",
       "  <thead>\n",
       "    <tr style=\"text-align: right;\">\n",
       "      <th></th>\n",
       "      <th>name</th>\n",
       "      <th>id</th>\n",
       "      <th>minutes</th>\n",
       "      <th>contributor_id</th>\n",
       "      <th>submitted</th>\n",
       "      <th>tags</th>\n",
       "      <th>nutrition</th>\n",
       "      <th>n_steps</th>\n",
       "      <th>steps</th>\n",
       "      <th>description</th>\n",
       "      <th>ingredients</th>\n",
       "      <th>n_ingredients</th>\n",
       "    </tr>\n",
       "  </thead>\n",
       "  <tbody>\n",
       "    <tr>\n",
       "      <th>0</th>\n",
       "      <td>arriba   baked winter squash mexican style</td>\n",
       "      <td>137739</td>\n",
       "      <td>55</td>\n",
       "      <td>47892</td>\n",
       "      <td>2005-09-16</td>\n",
       "      <td>['60-minutes-or-less', 'time-to-make', 'course...</td>\n",
       "      <td>[51.5, 0.0, 13.0, 0.0, 2.0, 0.0, 4.0]</td>\n",
       "      <td>11</td>\n",
       "      <td>['make a choice and proceed with recipe', 'dep...</td>\n",
       "      <td>autumn is my favorite time of year to cook! th...</td>\n",
       "      <td>[winter squash, mexican seasoning, mixed spice...</td>\n",
       "      <td>7</td>\n",
       "    </tr>\n",
       "    <tr>\n",
       "      <th>224913</th>\n",
       "      <td>way too easy char siu chicken wings</td>\n",
       "      <td>223082</td>\n",
       "      <td>37</td>\n",
       "      <td>279205</td>\n",
       "      <td>2007-04-16</td>\n",
       "      <td>['60-minutes-or-less', 'time-to-make', 'course...</td>\n",
       "      <td>[326.3, 36.0, 0.0, 4.0, 53.0, 32.0, 0.0]</td>\n",
       "      <td>13</td>\n",
       "      <td>['pre heat oven to 400f', 'microwave char siu ...</td>\n",
       "      <td>sometime i don't have time to make a marinade ...</td>\n",
       "      <td>[chicken wings, char siu sauce, water, toasted...</td>\n",
       "      <td>4</td>\n",
       "    </tr>\n",
       "    <tr>\n",
       "      <th>84578</th>\n",
       "      <td>five star house salad dressing</td>\n",
       "      <td>23478</td>\n",
       "      <td>10</td>\n",
       "      <td>30503</td>\n",
       "      <td>2002-03-28</td>\n",
       "      <td>['15-minutes-or-less', 'time-to-make', 'course...</td>\n",
       "      <td>[68.3, 4.0, 35.0, 2.0, 3.0, 2.0, 3.0]</td>\n",
       "      <td>2</td>\n",
       "      <td>['combine all ingredients and mix well with wi...</td>\n",
       "      <td>an absolutely delicious salad dressing that is...</td>\n",
       "      <td>[apple cider vinegar, garlic clove, dijon must...</td>\n",
       "      <td>8</td>\n",
       "    </tr>\n",
       "    <tr>\n",
       "      <th>18713</th>\n",
       "      <td>basil mint infused honey</td>\n",
       "      <td>223053</td>\n",
       "      <td>15</td>\n",
       "      <td>58104</td>\n",
       "      <td>2007-04-16</td>\n",
       "      <td>['15-minutes-or-less', 'time-to-make', 'course...</td>\n",
       "      <td>[65.7, 0.0, 69.0, 0.0, 0.0, 0.0, 5.0]</td>\n",
       "      <td>6</td>\n",
       "      <td>['place honey and mint in a double boiler with...</td>\n",
       "      <td>you can make straight mint or straight basil.\\...</td>\n",
       "      <td>[honey, mint leaves, basil leaves]</td>\n",
       "      <td>3</td>\n",
       "    </tr>\n",
       "    <tr>\n",
       "      <th>104569</th>\n",
       "      <td>heirloom tomato salad</td>\n",
       "      <td>432866</td>\n",
       "      <td>10</td>\n",
       "      <td>1651152</td>\n",
       "      <td>2010-07-21</td>\n",
       "      <td>['weeknight', '15-minutes-or-less', 'time-to-m...</td>\n",
       "      <td>[193.5, 28.0, 18.0, 9.0, 3.0, 12.0, 2.0]</td>\n",
       "      <td>11</td>\n",
       "      <td>['start with the vinaigrette to give the flavo...</td>\n",
       "      <td>multi-variety heirloom tomato salad with fresh...</td>\n",
       "      <td>[heirloom tomatoes, fresh goat cheese, fresh t...</td>\n",
       "      <td>12</td>\n",
       "    </tr>\n",
       "  </tbody>\n",
       "</table>\n",
       "</div>"
      ],
      "text/plain": [
       "                                              name      id  minutes  \\\n",
       "0       arriba   baked winter squash mexican style  137739       55   \n",
       "224913         way too easy char siu chicken wings  223082       37   \n",
       "84578               five star house salad dressing   23478       10   \n",
       "18713                     basil mint infused honey  223053       15   \n",
       "104569                       heirloom tomato salad  432866       10   \n",
       "\n",
       "        contributor_id   submitted  \\\n",
       "0                47892  2005-09-16   \n",
       "224913          279205  2007-04-16   \n",
       "84578            30503  2002-03-28   \n",
       "18713            58104  2007-04-16   \n",
       "104569         1651152  2010-07-21   \n",
       "\n",
       "                                                     tags  \\\n",
       "0       ['60-minutes-or-less', 'time-to-make', 'course...   \n",
       "224913  ['60-minutes-or-less', 'time-to-make', 'course...   \n",
       "84578   ['15-minutes-or-less', 'time-to-make', 'course...   \n",
       "18713   ['15-minutes-or-less', 'time-to-make', 'course...   \n",
       "104569  ['weeknight', '15-minutes-or-less', 'time-to-m...   \n",
       "\n",
       "                                       nutrition  n_steps  \\\n",
       "0          [51.5, 0.0, 13.0, 0.0, 2.0, 0.0, 4.0]       11   \n",
       "224913  [326.3, 36.0, 0.0, 4.0, 53.0, 32.0, 0.0]       13   \n",
       "84578      [68.3, 4.0, 35.0, 2.0, 3.0, 2.0, 3.0]        2   \n",
       "18713      [65.7, 0.0, 69.0, 0.0, 0.0, 0.0, 5.0]        6   \n",
       "104569  [193.5, 28.0, 18.0, 9.0, 3.0, 12.0, 2.0]       11   \n",
       "\n",
       "                                                    steps  \\\n",
       "0       ['make a choice and proceed with recipe', 'dep...   \n",
       "224913  ['pre heat oven to 400f', 'microwave char siu ...   \n",
       "84578   ['combine all ingredients and mix well with wi...   \n",
       "18713   ['place honey and mint in a double boiler with...   \n",
       "104569  ['start with the vinaigrette to give the flavo...   \n",
       "\n",
       "                                              description  \\\n",
       "0       autumn is my favorite time of year to cook! th...   \n",
       "224913  sometime i don't have time to make a marinade ...   \n",
       "84578   an absolutely delicious salad dressing that is...   \n",
       "18713   you can make straight mint or straight basil.\\...   \n",
       "104569  multi-variety heirloom tomato salad with fresh...   \n",
       "\n",
       "                                              ingredients  n_ingredients  \n",
       "0       [winter squash, mexican seasoning, mixed spice...              7  \n",
       "224913  [chicken wings, char siu sauce, water, toasted...              4  \n",
       "84578   [apple cider vinegar, garlic clove, dijon must...              8  \n",
       "18713                  [honey, mint leaves, basil leaves]              3  \n",
       "104569  [heirloom tomatoes, fresh goat cheese, fresh t...             12  "
      ]
     },
     "execution_count": 33,
     "metadata": {},
     "output_type": "execute_result"
    }
   ],
   "source": [
    "top_select_number_100 = [top_5_100[i][0] for i in range(5)]\n",
    "recipes.iloc[top_select_number_100]"
   ]
  },
  {
   "cell_type": "code",
   "execution_count": 34,
   "metadata": {},
   "outputs": [
    {
     "data": {
      "text/plain": [
       "[(0, 0.99999994),\n",
       " (224913, 0.9997021),\n",
       " (84578, 0.9603593),\n",
       " (18713, 0.9413549),\n",
       " (104569, 0.91810584)]"
      ]
     },
     "execution_count": 34,
     "metadata": {},
     "output_type": "execute_result"
    }
   ],
   "source": [
    "top_5_100"
   ]
  },
  {
   "cell_type": "markdown",
   "metadata": {},
   "source": [
    "### Conclustion:  30 topic model looks more relavant than 100 topic model for this example. "
   ]
  }
 ],
 "metadata": {
  "kernelspec": {
   "display_name": "Python [conda env:dsi] *",
   "language": "python",
   "name": "conda-env-dsi-py"
  },
  "language_info": {
   "codemirror_mode": {
    "name": "ipython",
    "version": 3
   },
   "file_extension": ".py",
   "mimetype": "text/x-python",
   "name": "python",
   "nbconvert_exporter": "python",
   "pygments_lexer": "ipython3",
   "version": "3.7.7"
  }
 },
 "nbformat": 4,
 "nbformat_minor": 4
}
