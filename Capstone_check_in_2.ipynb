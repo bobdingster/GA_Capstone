{
 "cells": [
  {
   "cell_type": "markdown",
   "metadata": {},
   "source": [
    "# Capstone Check in 2\n",
    "\n",
    "-----------------------\n",
    "##  Main goal of the project (problem statement)\n",
    "\n",
    "1. **Generate a unique cooking recipe from machine learing.**<br>\n",
    "   After analyzing hundreds of thousands of recipes and reviews, computer should be able to generate its own recipes, expected to have the best ratings.\n",
    "\n",
    "2. **What to cook for breakfast/lunch/dinner?** <br>\n",
    "    Given certain ingradients and limit of cook time, computer should give several suggestings about what to cook.\n",
    "    \n",
    "    \n",
    "## Outlines of the proposed methods and models\n",
    "\n",
    "The primary tools used were Pandas, Numpy, Seaborn, and\n",
    "Unsupervised learing. The dataset used was acquired from Food.com (formerly GeniusKitchen). This dataset consists of 170K+ recipes and 1M+ recipe reviews covering 18 years of user interactions and uploads on Food.com (formerly GeniusKitchen). Pandas will be heavily used to explore and preprocess the dataset, and Seaborn and matplotlibs\n",
    "for visualizations.\n",
    "\n",
    "## Defines the risks & assumptions of your data\n",
    "\n",
    "The dataset is large, over 800 MB storage and over 170 rows. It may take too long time to do machine learning or even just load the whole dataset. My computer only has 8GB of memory and dual-core i5 CPU. I will check if GA has cloud computering service.  I may have to choose a subset as study if the speed is unbearable for the whole dataset. I can choose to study vegetarian recipes, or cake recipes only. \n",
    "\n",
    "## Revises initial goals & success criteria, as needed\n",
    "N/A\n",
    "\n",
    "## Documents your data source\n",
    "\n",
    "This dataset consists of 180K+ recipes and 700K+ recipe reviews covering 18 years of user interactions and uploads on Food.com (formerly GeniusKitchen). used in the following paper:\n",
    "\n",
    "Generating Personalized Recipes from Historical User Preferences\n",
    "\n",
    "Bodhisattwa Prasad Majumder, Shuyang Li, Jianmo Ni, Julian McAuley\n",
    "\n",
    "EMNLP, 2019\n",
    "\n",
    "https://www.aclweb.org/anthology/D19-1613/\n",
    "\n",
    "\n",
    "\n",
    "## Performs & summarizes preliminary EDA of your data\n",
    "\n",
    "**NOTE: the actual dataset is too large to upload to the git hub server.  \n",
    "See https://www.kaggle.com/shuyangli94/food-com-recipes-and-user-interactions for data file**"
   ]
  },
  {
   "cell_type": "code",
   "execution_count": 1,
   "metadata": {},
   "outputs": [],
   "source": [
    "import pandas as pd\n",
    "import seaborn as sns\n",
    "import matplotlib.pyplot as plt\n",
    "import numpy as np"
   ]
  },
  {
   "cell_type": "code",
   "execution_count": 2,
   "metadata": {},
   "outputs": [],
   "source": [
    "## Code adapted from  https://www.kaggle.com/zinayida/data-exploration-feature-engineering-pipeline\n",
    "\n",
    "r_recipes = pd.read_csv('RAW_recipes.csv')\n",
    "test = pd.read_csv('interactions_test.csv')\n",
    "train = pd.read_csv('interactions_train.csv')\n",
    "validation = pd.read_csv('interactions_validation.csv')"
   ]
  },
  {
   "cell_type": "code",
   "execution_count": 3,
   "metadata": {},
   "outputs": [
    {
     "data": {
      "text/html": [
       "<div>\n",
       "<style scoped>\n",
       "    .dataframe tbody tr th:only-of-type {\n",
       "        vertical-align: middle;\n",
       "    }\n",
       "\n",
       "    .dataframe tbody tr th {\n",
       "        vertical-align: top;\n",
       "    }\n",
       "\n",
       "    .dataframe thead th {\n",
       "        text-align: right;\n",
       "    }\n",
       "</style>\n",
       "<table border=\"1\" class=\"dataframe\">\n",
       "  <thead>\n",
       "    <tr style=\"text-align: right;\">\n",
       "      <th></th>\n",
       "      <th>ingredients</th>\n",
       "      <th>nutrition</th>\n",
       "      <th>n_steps</th>\n",
       "      <th>n_ingredients</th>\n",
       "    </tr>\n",
       "    <tr>\n",
       "      <th>recipe_id</th>\n",
       "      <th></th>\n",
       "      <th></th>\n",
       "      <th></th>\n",
       "      <th></th>\n",
       "    </tr>\n",
       "  </thead>\n",
       "  <tbody>\n",
       "    <tr>\n",
       "      <th>137739</th>\n",
       "      <td>['winter squash', 'mexican seasoning', 'mixed ...</td>\n",
       "      <td>[51.5, 0.0, 13.0, 0.0, 2.0, 0.0, 4.0]</td>\n",
       "      <td>11</td>\n",
       "      <td>7</td>\n",
       "    </tr>\n",
       "    <tr>\n",
       "      <th>31490</th>\n",
       "      <td>['prepared pizza crust', 'sausage patty', 'egg...</td>\n",
       "      <td>[173.4, 18.0, 0.0, 17.0, 22.0, 35.0, 1.0]</td>\n",
       "      <td>9</td>\n",
       "      <td>6</td>\n",
       "    </tr>\n",
       "    <tr>\n",
       "      <th>112140</th>\n",
       "      <td>['ground beef', 'yellow onions', 'diced tomato...</td>\n",
       "      <td>[269.8, 22.0, 32.0, 48.0, 39.0, 27.0, 5.0]</td>\n",
       "      <td>6</td>\n",
       "      <td>13</td>\n",
       "    </tr>\n",
       "    <tr>\n",
       "      <th>59389</th>\n",
       "      <td>['spreadable cheese with garlic and herbs', 'n...</td>\n",
       "      <td>[368.1, 17.0, 10.0, 2.0, 14.0, 8.0, 20.0]</td>\n",
       "      <td>11</td>\n",
       "      <td>11</td>\n",
       "    </tr>\n",
       "    <tr>\n",
       "      <th>44061</th>\n",
       "      <td>['tomato juice', 'apple cider vinegar', 'sugar...</td>\n",
       "      <td>[352.9, 1.0, 337.0, 23.0, 3.0, 0.0, 28.0]</td>\n",
       "      <td>5</td>\n",
       "      <td>8</td>\n",
       "    </tr>\n",
       "  </tbody>\n",
       "</table>\n",
       "</div>"
      ],
      "text/plain": [
       "                                                 ingredients  \\\n",
       "recipe_id                                                      \n",
       "137739     ['winter squash', 'mexican seasoning', 'mixed ...   \n",
       "31490      ['prepared pizza crust', 'sausage patty', 'egg...   \n",
       "112140     ['ground beef', 'yellow onions', 'diced tomato...   \n",
       "59389      ['spreadable cheese with garlic and herbs', 'n...   \n",
       "44061      ['tomato juice', 'apple cider vinegar', 'sugar...   \n",
       "\n",
       "                                            nutrition  n_steps  n_ingredients  \n",
       "recipe_id                                                                      \n",
       "137739          [51.5, 0.0, 13.0, 0.0, 2.0, 0.0, 4.0]       11              7  \n",
       "31490       [173.4, 18.0, 0.0, 17.0, 22.0, 35.0, 1.0]        9              6  \n",
       "112140     [269.8, 22.0, 32.0, 48.0, 39.0, 27.0, 5.0]        6             13  \n",
       "59389       [368.1, 17.0, 10.0, 2.0, 14.0, 8.0, 20.0]       11             11  \n",
       "44061       [352.9, 1.0, 337.0, 23.0, 3.0, 0.0, 28.0]        5              8  "
      ]
     },
     "execution_count": 3,
     "metadata": {},
     "output_type": "execute_result"
    }
   ],
   "source": [
    "r_recipes = r_recipes[['id', 'ingredients', 'nutrition', 'n_steps', 'n_ingredients']]\n",
    "r_recipes.columns = ['recipe_id', 'ingredients', 'nutrition', 'n_steps', 'n_ingredients']\n",
    "r_recipes = r_recipes.set_index('recipe_id')\n",
    "r_recipes.head()"
   ]
  },
  {
   "cell_type": "code",
   "execution_count": 4,
   "metadata": {},
   "outputs": [
    {
     "name": "stdout",
     "output_type": "stream",
     "text": [
      "traing dataset shape: (167522, 5)\n",
      "testing dataset shape: (11695, 5)\n"
     ]
    }
   ],
   "source": [
    "train = pd.concat([train[['user_id', 'recipe_id', 'rating']], validation[['user_id', 'recipe_id', 'rating']]], axis = 0)\n",
    "\n",
    "train_rating = pd.DataFrame(train.groupby(['recipe_id']).mean()['rating'])\n",
    "test_rating = pd.DataFrame(test.groupby(['recipe_id']).mean()['rating'])\n",
    "\n",
    "recipes_rating_train = r_recipes.join(train_rating, how = 'inner')\n",
    "recipes_rating_test = r_recipes.join(test_rating, how = 'inner')\n",
    "\n",
    "recipes_rating_train['rating'] = recipes_rating_train['rating'].apply(lambda x: round(x))\n",
    "recipes_rating_test['rating'] = recipes_rating_test['rating'].apply(lambda x: round(x))\n",
    "\n",
    "print(f'traing dataset shape: {recipes_rating_train.shape}')\n",
    "print(f'testing dataset shape: {recipes_rating_test.shape}')"
   ]
  },
  {
   "cell_type": "code",
   "execution_count": 5,
   "metadata": {},
   "outputs": [
    {
     "name": "stdout",
     "output_type": "stream",
     "text": [
      "traing dataset shape: (167500, 5)\n",
      "testing dataset shape: (11695, 5)\n"
     ]
    }
   ],
   "source": [
    "\n",
    "def avoidRowsWithMissValues(df):\n",
    "  if(df.isnull().values.any()): \n",
    "    columns = df.columns\n",
    "    for column in columns: \n",
    "      df[df[column].isnull()] = \"\"\n",
    "      df[df[column]=='NaN'] = \"\"\n",
    "      df[pd.isna(df[column])] = \"\"\n",
    "  return df\n",
    "\n",
    "recipes_rating_train = avoidRowsWithMissValues(recipes_rating_train)\n",
    "recipes_rating_test = avoidRowsWithMissValues(recipes_rating_test)\n",
    "\n",
    "\n",
    "print(f'traing dataset shape: {recipes_rating_train.drop_duplicates().shape}')\n",
    "print(f'testing dataset shape: {recipes_rating_test.drop_duplicates().shape}')"
   ]
  },
  {
   "cell_type": "code",
   "execution_count": 6,
   "metadata": {},
   "outputs": [
    {
     "data": {
      "text/html": [
       "<div>\n",
       "<style scoped>\n",
       "    .dataframe tbody tr th:only-of-type {\n",
       "        vertical-align: middle;\n",
       "    }\n",
       "\n",
       "    .dataframe tbody tr th {\n",
       "        vertical-align: top;\n",
       "    }\n",
       "\n",
       "    .dataframe thead th {\n",
       "        text-align: right;\n",
       "    }\n",
       "</style>\n",
       "<table border=\"1\" class=\"dataframe\">\n",
       "  <thead>\n",
       "    <tr style=\"text-align: right;\">\n",
       "      <th></th>\n",
       "      <th>ingredients</th>\n",
       "      <th>nutrition</th>\n",
       "      <th>n_steps</th>\n",
       "      <th>n_ingredients</th>\n",
       "      <th>rating</th>\n",
       "    </tr>\n",
       "    <tr>\n",
       "      <th>recipe_id</th>\n",
       "      <th></th>\n",
       "      <th></th>\n",
       "      <th></th>\n",
       "      <th></th>\n",
       "      <th></th>\n",
       "    </tr>\n",
       "  </thead>\n",
       "  <tbody>\n",
       "    <tr>\n",
       "      <th>137739</th>\n",
       "      <td>['winter squash', 'mexican seasoning', 'mixed ...</td>\n",
       "      <td>[51.5, 0.0, 13.0, 0.0, 2.0, 0.0, 4.0]</td>\n",
       "      <td>11</td>\n",
       "      <td>7</td>\n",
       "      <td>5</td>\n",
       "    </tr>\n",
       "    <tr>\n",
       "      <th>31490</th>\n",
       "      <td>['prepared pizza crust', 'sausage patty', 'egg...</td>\n",
       "      <td>[173.4, 18.0, 0.0, 17.0, 22.0, 35.0, 1.0]</td>\n",
       "      <td>9</td>\n",
       "      <td>6</td>\n",
       "      <td>3</td>\n",
       "    </tr>\n",
       "    <tr>\n",
       "      <th>59389</th>\n",
       "      <td>['spreadable cheese with garlic and herbs', 'n...</td>\n",
       "      <td>[368.1, 17.0, 10.0, 2.0, 14.0, 8.0, 20.0]</td>\n",
       "      <td>11</td>\n",
       "      <td>11</td>\n",
       "      <td>4</td>\n",
       "    </tr>\n",
       "    <tr>\n",
       "      <th>5289</th>\n",
       "      <td>['milk', 'vanilla ice cream', 'frozen apple ju...</td>\n",
       "      <td>[160.2, 10.0, 55.0, 3.0, 9.0, 20.0, 7.0]</td>\n",
       "      <td>4</td>\n",
       "      <td>4</td>\n",
       "      <td>5</td>\n",
       "    </tr>\n",
       "    <tr>\n",
       "      <th>25274</th>\n",
       "      <td>['fennel seeds', 'green olives', 'ripe olives'...</td>\n",
       "      <td>[380.7, 53.0, 7.0, 24.0, 6.0, 24.0, 6.0]</td>\n",
       "      <td>4</td>\n",
       "      <td>9</td>\n",
       "      <td>2</td>\n",
       "    </tr>\n",
       "  </tbody>\n",
       "</table>\n",
       "</div>"
      ],
      "text/plain": [
       "                                                 ingredients  \\\n",
       "recipe_id                                                      \n",
       "137739     ['winter squash', 'mexican seasoning', 'mixed ...   \n",
       "31490      ['prepared pizza crust', 'sausage patty', 'egg...   \n",
       "59389      ['spreadable cheese with garlic and herbs', 'n...   \n",
       "5289       ['milk', 'vanilla ice cream', 'frozen apple ju...   \n",
       "25274      ['fennel seeds', 'green olives', 'ripe olives'...   \n",
       "\n",
       "                                           nutrition  n_steps  n_ingredients  \\\n",
       "recipe_id                                                                      \n",
       "137739         [51.5, 0.0, 13.0, 0.0, 2.0, 0.0, 4.0]       11              7   \n",
       "31490      [173.4, 18.0, 0.0, 17.0, 22.0, 35.0, 1.0]        9              6   \n",
       "59389      [368.1, 17.0, 10.0, 2.0, 14.0, 8.0, 20.0]       11             11   \n",
       "5289        [160.2, 10.0, 55.0, 3.0, 9.0, 20.0, 7.0]        4              4   \n",
       "25274       [380.7, 53.0, 7.0, 24.0, 6.0, 24.0, 6.0]        4              9   \n",
       "\n",
       "           rating  \n",
       "recipe_id          \n",
       "137739          5  \n",
       "31490           3  \n",
       "59389           4  \n",
       "5289            5  \n",
       "25274           2  "
      ]
     },
     "execution_count": 6,
     "metadata": {},
     "output_type": "execute_result"
    }
   ],
   "source": [
    "recipes_rating_train.head()"
   ]
  },
  {
   "cell_type": "code",
   "execution_count": 7,
   "metadata": {},
   "outputs": [
    {
     "data": {
      "image/png": "[encoded data removed]",
      "text/plain": [
       "<Figure size 432x288 with 1 Axes>"
      ]
     },
     "metadata": {},
     "output_type": "display_data"
    }
   ],
   "source": [
    "sns.set(style = \"whitegrid\")\n",
    "ax = sns.boxenplot(x = recipes_rating_train['rating'])\n",
    "ax.set_xticks(np.arange(0,6))\n",
    "ax.set_xlabel('Ratings in train set')\n",
    "plt.show()"
   ]
  },
  {
   "cell_type": "code",
   "execution_count": 8,
   "metadata": {},
   "outputs": [
    {
     "data": {
      "image/png": "[encoded data removed]",
      "text/plain": [
       "<Figure size 432x288 with 1 Axes>"
      ]
     },
     "metadata": {},
     "output_type": "display_data"
    }
   ],
   "source": [
    "sns.set(style = \"whitegrid\")\n",
    "ax = sns.boxenplot(x = recipes_rating_train['n_ingredients'])\n",
    "ax.set_xticks(np.arange(0,20))\n",
    "ax.set_xlabel('Number of ingredients per recipe in train set')\n",
    "plt.show()"
   ]
  }
 ],
 "metadata": {
  "kernelspec": {
   "display_name": "Python 3",
   "language": "python",
   "name": "python3"
  },
  "language_info": {
   "codemirror_mode": {
    "name": "ipython",
    "version": 3
   },
   "file_extension": ".py",
   "mimetype": "text/x-python",
   "name": "python",
   "nbconvert_exporter": "python",
   "pygments_lexer": "ipython3",
   "version": "3.7.7"
  }
 },
 "nbformat": 4,
 "nbformat_minor": 4
}
