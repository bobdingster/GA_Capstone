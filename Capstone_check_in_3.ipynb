{
 "cells": [
  {
   "cell_type": "markdown",
   "metadata": {},
   "source": [
    "# Capstone Check in 3\n",
    "\n",
    "-----------------------\n",
    "##  Main goal of the project (problem statement)\n",
    "(modified form check in 2)\n",
    "\n",
    "1. **What to cook for breakfast/lunch/dinner?** <br>\n",
    "Given certain ingradients by user, computer will search through the recipe dataset and find the mamimum number of matched for the ingradient.  Return top three matches. \n",
    "    \n",
    "2. Find the best recommandation of recipes. \n",
    "Given a discription of user about the food, computer will recommend the best recipe with best matching for the desprition. (using cosine similarity or othe models to find best match)\n",
    "\n",
    "\n",
    "3. (optional) Generate a unique cooking recipe from machine learing.\n",
    "After analyzing hundreds of thousands of recipes and reviews, computer should be able to generate its own recipes, expected to have the best ratings.\n",
    "    \n",
    "    \n",
    "    \n",
    "## Outlines of the proposed methods and models\n",
    "\n",
    "The primary tools used were Pandas, Numpy, Seaborn, and\n",
    "Unsupervised learing. The dataset used was acquired from Food.com (formerly GeniusKitchen). This dataset consists of 170K+ recipes and 1M+ recipe reviews covering 18 years of user interactions and uploads on Food.com (formerly GeniusKitchen). Pandas will be heavily used to explore and preprocess the dataset, and Seaborn and matplotlibs\n",
    "for visualizations.\n",
    "\n",
    "## Defines the risks & assumptions of your data\n",
    "\n",
    "The dataset is large, over 800 MB storage and over 170,000 recipes. It may take too long time to do machine learning or even just load the whole dataset. My computer only has 8GB of memory and dual-core i5 CPU. I will check if GA has cloud computering service.  I may have to choose a subset as study if the speed is unbearable for the whole dataset. I can choose to study vegetarian recipes, or cake recipes only. \n",
    "\n",
    "## Revises initial goals & success criteria, as needed\n",
    "N/A\n",
    "\n",
    "## Documents your data source\n",
    "\n",
    "This dataset consists of 180K+ recipes and 700K+ recipe reviews covering 18 years of user interactions and uploads on Food.com (formerly GeniusKitchen). used in the following paper:\n",
    "\n",
    "Generating Personalized Recipes from Historical User Preferences\n",
    "\n",
    "Bodhisattwa Prasad Majumder, Shuyang Li, Jianmo Ni, Julian McAuley\n",
    "\n",
    "EMNLP, 2019\n",
    "\n",
    "https://www.aclweb.org/anthology/D19-1613/\n",
    "\n",
    "\n",
    "\n",
    "## Performs & summarizes preliminary EDA of your data\n",
    "\n",
    "**NOTE: the actual dataset is too large to upload to the git hub server.  \n",
    "See https://www.kaggle.com/shuyangli94/food-com-recipes-and-user-interactions for data file**"
   ]
  },
  {
   "cell_type": "markdown",
   "metadata": {},
   "source": [
    "# The following code explore the recipe data, clean it and save to a new file"
   ]
  },
  {
   "cell_type": "code",
   "execution_count": 1,
   "metadata": {},
   "outputs": [],
   "source": [
    "import pandas as pd\n",
    "import seaborn as sns\n",
    "import matplotlib.pyplot as plt\n",
    "import numpy as np"
   ]
  },
  {
   "cell_type": "code",
   "execution_count": 2,
   "metadata": {},
   "outputs": [],
   "source": [
    "#Code adapted from reference https://www.kaggle.com/etsc9287/food-com-eda-and-text-analysis  \n",
    "\n",
    "df = pd.read_csv('data/RAW_recipes.csv')"
   ]
  },
  {
   "cell_type": "code",
   "execution_count": 3,
   "metadata": {},
   "outputs": [
    {
     "name": "stdout",
     "output_type": "stream",
     "text": [
      " There are total of 231637 recipes in this data set\n"
     ]
    }
   ],
   "source": [
    "print(f\" There are total of {df.shape[0]} recipes in this data set\")"
   ]
  },
  {
   "cell_type": "code",
   "execution_count": 4,
   "metadata": {
    "scrolled": false
   },
   "outputs": [
    {
     "data": {
      "text/html": [
       "<div>\n",
       "<style scoped>\n",
       "    .dataframe tbody tr th:only-of-type {\n",
       "        vertical-align: middle;\n",
       "    }\n",
       "\n",
       "    .dataframe tbody tr th {\n",
       "        vertical-align: top;\n",
       "    }\n",
       "\n",
       "    .dataframe thead th {\n",
       "        text-align: right;\n",
       "    }\n",
       "</style>\n",
       "<table border=\"1\" class=\"dataframe\">\n",
       "  <thead>\n",
       "    <tr style=\"text-align: right;\">\n",
       "      <th></th>\n",
       "      <th>name</th>\n",
       "      <th>id</th>\n",
       "      <th>minutes</th>\n",
       "      <th>contributor_id</th>\n",
       "      <th>submitted</th>\n",
       "      <th>tags</th>\n",
       "      <th>nutrition</th>\n",
       "      <th>n_steps</th>\n",
       "      <th>steps</th>\n",
       "      <th>description</th>\n",
       "      <th>ingredients</th>\n",
       "      <th>n_ingredients</th>\n",
       "    </tr>\n",
       "  </thead>\n",
       "  <tbody>\n",
       "    <tr>\n",
       "      <th>0</th>\n",
       "      <td>arriba   baked winter squash mexican style</td>\n",
       "      <td>137739</td>\n",
       "      <td>55</td>\n",
       "      <td>47892</td>\n",
       "      <td>2005-09-16</td>\n",
       "      <td>['60-minutes-or-less', 'time-to-make', 'course', 'main-ingredient', 'cuisine', 'preparation', 'occasion', 'north-american', 'side-dishes', 'vegetables', 'mexican', 'easy', 'fall', 'holiday-event', 'vegetarian', 'winter', 'dietary', 'christmas', 'seasonal', 'squash']</td>\n",
       "      <td>[51.5, 0.0, 13.0, 0.0, 2.0, 0.0, 4.0]</td>\n",
       "      <td>11</td>\n",
       "      <td>['make a choice and proceed with recipe', 'depending on size of squash , cut into half or fourths', 'remove seeds', 'for spicy squash , drizzle olive oil or melted butter over each cut squash piece', 'season with mexican seasoning mix ii', 'for sweet squash , drizzle melted honey , butter , grated piloncillo over each cut squash piece', 'season with sweet mexican spice mix', 'bake at 350 degrees , again depending on size , for 40 minutes up to an hour , until a fork can easily pierce the ski...</td>\n",
       "      <td>autumn is my favorite time of year to cook! this recipe \\r\\ncan be prepared either spicy or sweet, your choice!\\r\\ntwo of my posted mexican-inspired seasoning mix recipes are offered as suggestions.</td>\n",
       "      <td>['winter squash', 'mexican seasoning', 'mixed spice', 'honey', 'butter', 'olive oil', 'salt']</td>\n",
       "      <td>7</td>\n",
       "    </tr>\n",
       "  </tbody>\n",
       "</table>\n",
       "</div>"
      ],
      "text/plain": [
       "                                         name      id  minutes  \\\n",
       "0  arriba   baked winter squash mexican style  137739       55   \n",
       "\n",
       "   contributor_id   submitted  \\\n",
       "0           47892  2005-09-16   \n",
       "\n",
       "                                                                                                                                                                                                                                                                         tags  \\\n",
       "0  ['60-minutes-or-less', 'time-to-make', 'course', 'main-ingredient', 'cuisine', 'preparation', 'occasion', 'north-american', 'side-dishes', 'vegetables', 'mexican', 'easy', 'fall', 'holiday-event', 'vegetarian', 'winter', 'dietary', 'christmas', 'seasonal', 'squash']   \n",
       "\n",
       "                               nutrition  n_steps  \\\n",
       "0  [51.5, 0.0, 13.0, 0.0, 2.0, 0.0, 4.0]       11   \n",
       "\n",
       "                                                                                                                                                                                                                                                                                                                                                                                                                                                                                                                 steps  \\\n",
       "0  ['make a choice and proceed with recipe', 'depending on size of squash , cut into half or fourths', 'remove seeds', 'for spicy squash , drizzle olive oil or melted butter over each cut squash piece', 'season with mexican seasoning mix ii', 'for sweet squash , drizzle melted honey , butter , grated piloncillo over each cut squash piece', 'season with sweet mexican spice mix', 'bake at 350 degrees , again depending on size , for 40 minutes up to an hour , until a fork can easily pierce the ski...   \n",
       "\n",
       "                                                                                                                                                                                              description  \\\n",
       "0  autumn is my favorite time of year to cook! this recipe \\r\\ncan be prepared either spicy or sweet, your choice!\\r\\ntwo of my posted mexican-inspired seasoning mix recipes are offered as suggestions.   \n",
       "\n",
       "                                                                                     ingredients  \\\n",
       "0  ['winter squash', 'mexican seasoning', 'mixed spice', 'honey', 'butter', 'olive oil', 'salt']   \n",
       "\n",
       "   n_ingredients  \n",
       "0              7  "
      ]
     },
     "execution_count": 4,
     "metadata": {},
     "output_type": "execute_result"
    }
   ],
   "source": [
    "pd.set_option('max_colwidth', 500)\n",
    "df.head(1)"
   ]
  },
  {
   "cell_type": "code",
   "execution_count": 5,
   "metadata": {
    "scrolled": false
   },
   "outputs": [
    {
     "data": {
      "text/plain": [
       "name                 1\n",
       "id                   0\n",
       "minutes              0\n",
       "contributor_id       0\n",
       "submitted            0\n",
       "tags                 0\n",
       "nutrition            0\n",
       "n_steps              0\n",
       "steps                0\n",
       "description       4979\n",
       "ingredients          0\n",
       "n_ingredients        0\n",
       "dtype: int64"
      ]
     },
     "execution_count": 5,
     "metadata": {},
     "output_type": "execute_result"
    }
   ],
   "source": [
    "df.isnull().sum()"
   ]
  },
  {
   "cell_type": "code",
   "execution_count": 6,
   "metadata": {},
   "outputs": [
    {
     "name": "stdout",
     "output_type": "stream",
     "text": [
      "(226657, 12)\n"
     ]
    }
   ],
   "source": [
    "df.dropna(inplace=True)\n",
    "print(df.shape)"
   ]
  },
  {
   "cell_type": "markdown",
   "metadata": {},
   "source": [
    "**Nutritional values extraction**"
   ]
  },
  {
   "cell_type": "code",
   "execution_count": 7,
   "metadata": {},
   "outputs": [],
   "source": [
    "nutrition_names = [\"calories\", \"total_fat\", \"sugar\", \"sodium\", \"protein\", \"sat_fat\", \"carbs\"]\n",
    "for i, nutrition_name in enumerate(nutrition_names):\n",
    "    df[nutrition_name] = df['nutrition'].map(lambda s: eval(s)[i])\n"
   ]
  },
  {
   "cell_type": "code",
   "execution_count": 8,
   "metadata": {},
   "outputs": [
    {
     "data": {
      "text/html": [
       "<div>\n",
       "<style scoped>\n",
       "    .dataframe tbody tr th:only-of-type {\n",
       "        vertical-align: middle;\n",
       "    }\n",
       "\n",
       "    .dataframe tbody tr th {\n",
       "        vertical-align: top;\n",
       "    }\n",
       "\n",
       "    .dataframe thead th {\n",
       "        text-align: right;\n",
       "    }\n",
       "</style>\n",
       "<table border=\"1\" class=\"dataframe\">\n",
       "  <thead>\n",
       "    <tr style=\"text-align: right;\">\n",
       "      <th></th>\n",
       "      <th>name</th>\n",
       "      <th>calories</th>\n",
       "      <th>total_fat</th>\n",
       "      <th>sugar</th>\n",
       "      <th>sodium</th>\n",
       "      <th>protein</th>\n",
       "      <th>sat_fat</th>\n",
       "      <th>carbs</th>\n",
       "    </tr>\n",
       "  </thead>\n",
       "  <tbody>\n",
       "    <tr>\n",
       "      <th>0</th>\n",
       "      <td>arriba   baked winter squash mexican style</td>\n",
       "      <td>51.5</td>\n",
       "      <td>0.0</td>\n",
       "      <td>13.0</td>\n",
       "      <td>0.0</td>\n",
       "      <td>2.0</td>\n",
       "      <td>0.0</td>\n",
       "      <td>4.0</td>\n",
       "    </tr>\n",
       "    <tr>\n",
       "      <th>1</th>\n",
       "      <td>a bit different  breakfast pizza</td>\n",
       "      <td>173.4</td>\n",
       "      <td>18.0</td>\n",
       "      <td>0.0</td>\n",
       "      <td>17.0</td>\n",
       "      <td>22.0</td>\n",
       "      <td>35.0</td>\n",
       "      <td>1.0</td>\n",
       "    </tr>\n",
       "    <tr>\n",
       "      <th>2</th>\n",
       "      <td>all in the kitchen  chili</td>\n",
       "      <td>269.8</td>\n",
       "      <td>22.0</td>\n",
       "      <td>32.0</td>\n",
       "      <td>48.0</td>\n",
       "      <td>39.0</td>\n",
       "      <td>27.0</td>\n",
       "      <td>5.0</td>\n",
       "    </tr>\n",
       "  </tbody>\n",
       "</table>\n",
       "</div>"
      ],
      "text/plain": [
       "                                         name  calories  total_fat  sugar  \\\n",
       "0  arriba   baked winter squash mexican style      51.5        0.0   13.0   \n",
       "1            a bit different  breakfast pizza     173.4       18.0    0.0   \n",
       "2                   all in the kitchen  chili     269.8       22.0   32.0   \n",
       "\n",
       "   sodium  protein  sat_fat  carbs  \n",
       "0     0.0      2.0      0.0    4.0  \n",
       "1    17.0     22.0     35.0    1.0  \n",
       "2    48.0     39.0     27.0    5.0  "
      ]
     },
     "execution_count": 8,
     "metadata": {},
     "output_type": "execute_result"
    }
   ],
   "source": [
    "df[[\"name\"]+nutrition_names].head(3)"
   ]
  },
  {
   "cell_type": "code",
   "execution_count": 9,
   "metadata": {},
   "outputs": [
    {
     "data": {
      "image/png": "[encoded data removed]",
      "text/plain": [
       "<Figure size 432x288 with 1 Axes>"
      ]
     },
     "metadata": {
      "needs_background": "light"
     },
     "output_type": "display_data"
    }
   ],
   "source": [
    "#Take a look at cooking time, the 'minutes' column\n",
    "plt.hist(df['minutes']);  # find strange outliers "
   ]
  },
  {
   "cell_type": "code",
   "execution_count": 10,
   "metadata": {},
   "outputs": [
    {
     "name": "stdout",
     "output_type": "stream",
     "text": [
      "(212195, 19)\n"
     ]
    },
    {
     "data": {
      "image/png": "[encoded data removed]",
      "text/plain": [
       "<Figure size 432x288 with 1 Axes>"
      ]
     },
     "metadata": {
      "needs_background": "light"
     },
     "output_type": "display_data"
    }
   ],
   "source": [
    "# Since we have enough data, let's only use cooking time < 200 minutes\n",
    "df = df[df['minutes']<201] \n",
    "print(df.shape)\n",
    "# plt.xscale('log')\n",
    "plt.hist(df['minutes'], bins=20);"
   ]
  },
  {
   "cell_type": "code",
   "execution_count": 11,
   "metadata": {},
   "outputs": [
    {
     "name": "stdout",
     "output_type": "stream",
     "text": [
      "Amount the 212195 recepies: \n",
      "\n",
      "Average cooking time: 44.98\n",
      "Median cooking time: 35.0\n",
      "Maximum cooking time: 200\n"
     ]
    }
   ],
   "source": [
    "print(f\"Amount the {df.shape[0]} recepies: \")\n",
    "print()\n",
    "print(f\"Average cooking time: {round(df['minutes'].mean(),2)}\")\n",
    "print(f\"Median cooking time: {df['minutes'].median()}\")\n",
    "print(f\"Maximum cooking time: {df['minutes'].max()}\")"
   ]
  },
  {
   "cell_type": "code",
   "execution_count": 12,
   "metadata": {},
   "outputs": [
    {
     "data": {
      "image/png": "[encoded data removed]",
      "text/plain": [
       "<Figure size 432x288 with 1 Axes>"
      ]
     },
     "metadata": {
      "needs_background": "light"
     },
     "output_type": "display_data"
    }
   ],
   "source": [
    "# number of steps\n",
    "plt.hist(df['n_steps'], bins=20);"
   ]
  },
  {
   "cell_type": "code",
   "execution_count": 13,
   "metadata": {},
   "outputs": [
    {
     "name": "stdout",
     "output_type": "stream",
     "text": [
      "(208088, 19)\n"
     ]
    },
    {
     "data": {
      "image/png": "[encoded data removed]",
      "text/plain": [
       "<Figure size 432x288 with 1 Axes>"
      ]
     },
     "metadata": {
      "needs_background": "light"
     },
     "output_type": "display_data"
    }
   ],
   "source": [
    "# Since we have enough data, let's only use number of steps <= 25\n",
    "df = df[df['n_steps']<=25] \n",
    "print(df.shape)\n",
    "plt.hist(df['n_steps'], bins=25);"
   ]
  },
  {
   "cell_type": "code",
   "execution_count": 14,
   "metadata": {},
   "outputs": [
    {
     "name": "stdout",
     "output_type": "stream",
     "text": [
      "Amount the 208088 chosen recepies: \n",
      "\n",
      "Average number of cooking steps: 9.25\n",
      "Median number of cooking steps:: 8.0\n",
      "Maximum number of cooking steps:: 25\n"
     ]
    }
   ],
   "source": [
    "print(f\"Amount the {df.shape[0]} chosen recepies: \")\n",
    "print()\n",
    "print(f\"Average number of cooking steps: {round(df['n_steps'].mean(),2)}\")\n",
    "print(f\"Median number of cooking steps:: {df['n_steps'].median()}\")\n",
    "print(f\"Maximum number of cooking steps:: {df['n_steps'].max()}\")"
   ]
  },
  {
   "cell_type": "code",
   "execution_count": 15,
   "metadata": {},
   "outputs": [
    {
     "data": {
      "image/png": "[encoded data removed]",
      "text/plain": [
       "<Figure size 432x288 with 1 Axes>"
      ]
     },
     "metadata": {
      "needs_background": "light"
     },
     "output_type": "display_data"
    }
   ],
   "source": [
    "#number of ingredients\n",
    "plt.hist(df['n_ingredients'], bins=20);"
   ]
  },
  {
   "cell_type": "code",
   "execution_count": 16,
   "metadata": {},
   "outputs": [
    {
     "name": "stdout",
     "output_type": "stream",
     "text": [
      "(207031, 19)\n"
     ]
    },
    {
     "data": {
      "image/png": "[encoded data removed]",
      "text/plain": [
       "<Figure size 432x288 with 1 Axes>"
      ]
     },
     "metadata": {
      "needs_background": "light"
     },
     "output_type": "display_data"
    }
   ],
   "source": [
    "# Since we have enough data, let's only use number of ingredient <= 20\n",
    "df = df[df['n_ingredients']<=20] \n",
    "print(df.shape)\n",
    "plt.hist(df['n_ingredients'], bins=20);"
   ]
  },
  {
   "cell_type": "code",
   "execution_count": 17,
   "metadata": {},
   "outputs": [
    {
     "data": {
      "image/png": "[encoded data removed]",
      "text/plain": [
       "<Figure size 432x288 with 1 Axes>"
      ]
     },
     "metadata": {
      "needs_background": "light"
     },
     "output_type": "display_data"
    }
   ],
   "source": [
    "#Distribution of Calories\n",
    "plt.hist(df['calories']);"
   ]
  },
  {
   "cell_type": "code",
   "execution_count": 18,
   "metadata": {},
   "outputs": [
    {
     "name": "stdout",
     "output_type": "stream",
     "text": [
      "(193249, 19)\n"
     ]
    },
    {
     "data": {
      "image/png": "[encoded data removed]",
      "text/plain": [
       "<Figure size 432x288 with 1 Axes>"
      ]
     },
     "metadata": {
      "needs_background": "light"
     },
     "output_type": "display_data"
    }
   ],
   "source": [
    "# Since we have enough data, let's only use number of clories <= 1_000\n",
    "df = df[df['calories']<=1_000] \n",
    "print(df.shape)\n",
    "plt.hist(df['calories'], bins=20);"
   ]
  },
  {
   "cell_type": "code",
   "execution_count": 19,
   "metadata": {},
   "outputs": [
    {
     "name": "stdout",
     "output_type": "stream",
     "text": [
      "Amount the 193249 chosen recepies: \n",
      "\n",
      "Average number of calories: 328.5\n",
      "Median number of calories: 285.6\n",
      "Maximum number of calories: 1000.0\n"
     ]
    }
   ],
   "source": [
    "print(f\"Amount the {df.shape[0]} chosen recepies: \")\n",
    "print()\n",
    "print(f\"Average number of calories: {round(df['calories'].mean(),2)}\")\n",
    "print(f\"Median number of calories: {df['calories'].median()}\")\n",
    "print(f\"Maximum number of calories: {df['calories'].max()}\")"
   ]
  },
  {
   "cell_type": "code",
   "execution_count": 20,
   "metadata": {},
   "outputs": [
    {
     "data": {
      "image/png": "[encoded data removed]",
      "text/plain": [
       "<Figure size 432x288 with 1 Axes>"
      ]
     },
     "metadata": {
      "needs_background": "light"
     },
     "output_type": "display_data"
    }
   ],
   "source": [
    "#Distribution of total fat\n",
    "plt.hist(df['total_fat'], bins=25);"
   ]
  },
  {
   "cell_type": "code",
   "execution_count": 21,
   "metadata": {},
   "outputs": [
    {
     "name": "stdout",
     "output_type": "stream",
     "text": [
      "Amount the 193249 chosen recepies: \n",
      "\n",
      "Average number of total_fat: 24.23\n",
      "Median number of total_fat: 18.0\n",
      "Maximum number of total_fat: 168.0\n"
     ]
    }
   ],
   "source": [
    "print(f\"Amount the {df.shape[0]} chosen recepies: \")\n",
    "print()\n",
    "print(f\"Average number of total_fat: {round(df['total_fat'].mean(),2)}\")\n",
    "print(f\"Median number of total_fat: {df['total_fat'].median()}\")\n",
    "print(f\"Maximum number of total_fat: {df['total_fat'].max()}\")"
   ]
  },
  {
   "cell_type": "code",
   "execution_count": 22,
   "metadata": {},
   "outputs": [
    {
     "data": {
      "image/png": "[encoded data removed]",
      "text/plain": [
       "<Figure size 432x288 with 1 Axes>"
      ]
     },
     "metadata": {
      "needs_background": "light"
     },
     "output_type": "display_data"
    }
   ],
   "source": [
    "#distribution of suter\n",
    "plt.hist(df['sugar'], bins=25);"
   ]
  },
  {
   "cell_type": "code",
   "execution_count": 23,
   "metadata": {},
   "outputs": [
    {
     "name": "stdout",
     "output_type": "stream",
     "text": [
      "Amount the 192342 chosen recepies: \n",
      "\n",
      "Average number of sugar: 46.4\n",
      "Median number of sugar: 22.0\n",
      "Maximum number of sugar: 500.0\n"
     ]
    },
    {
     "data": {
      "image/png": "[encoded data removed]",
      "text/plain": [
       "<Figure size 432x288 with 1 Axes>"
      ]
     },
     "metadata": {
      "needs_background": "light"
     },
     "output_type": "display_data"
    }
   ],
   "source": [
    "# Since we have enough data, let's only use number of clories <= 500\n",
    "df = df[df['sugar']<=500] \n",
    "print(f\"Amount the {df.shape[0]} chosen recepies: \")\n",
    "print()\n",
    "print(f\"Average number of sugar: {round(df['sugar'].mean(),2)}\")\n",
    "print(f\"Median number of sugar: {df['sugar'].median()}\")\n",
    "print(f\"Maximum number of sugar: {df['sugar'].max()}\")\n",
    "plt.hist(df['sugar'], bins=25);"
   ]
  },
  {
   "cell_type": "code",
   "execution_count": 24,
   "metadata": {},
   "outputs": [
    {
     "data": {
      "image/png": "[encoded data removed]",
      "text/plain": [
       "<Figure size 432x288 with 1 Axes>"
      ]
     },
     "metadata": {
      "needs_background": "light"
     },
     "output_type": "display_data"
    }
   ],
   "source": [
    "#Distribution of sodium\n",
    "plt.hist(df['sodium'], bins=25);"
   ]
  },
  {
   "cell_type": "code",
   "execution_count": 25,
   "metadata": {},
   "outputs": [
    {
     "name": "stdout",
     "output_type": "stream",
     "text": [
      "Amount the 191481 chosen recepies: \n",
      "\n",
      "Average number of sodium: 20.06\n",
      "Median number of sodium: 13.0\n",
      "Maximum number of sodium: 200.0\n"
     ]
    },
    {
     "data": {
      "image/png": "[encoded data removed]",
      "text/plain": [
       "<Figure size 432x288 with 1 Axes>"
      ]
     },
     "metadata": {
      "needs_background": "light"
     },
     "output_type": "display_data"
    }
   ],
   "source": [
    "# Since we have enough data, let's only use sodium <= 200\n",
    "df = df[df['sodium']<=200] \n",
    "plt.hist(df['sodium'], bins=25);\n",
    "print(f\"Amount the {df.shape[0]} chosen recepies: \")\n",
    "print()\n",
    "print(f\"Average number of sodium: {round(df['sodium'].mean(),2)}\")\n",
    "print(f\"Median number of sodium: {df['sodium'].median()}\")\n",
    "print(f\"Maximum number of sodium: {df['sodium'].max()}\")"
   ]
  },
  {
   "cell_type": "code",
   "execution_count": 26,
   "metadata": {},
   "outputs": [
    {
     "name": "stdout",
     "output_type": "stream",
     "text": [
      "Amount the 191481 chosen recepies: \n",
      "\n",
      "Average number of protein: 27.51\n",
      "Median number of protein: 15.0\n",
      "Maximum number of protein: 342.0\n"
     ]
    },
    {
     "data": {
      "image/png": "[encoded data removed]",
      "text/plain": [
       "<Figure size 432x288 with 1 Axes>"
      ]
     },
     "metadata": {
      "needs_background": "light"
     },
     "output_type": "display_data"
    }
   ],
   "source": [
    "#Distribution of protein\n",
    "print(f\"Amount the {df.shape[0]} chosen recepies: \")\n",
    "print()\n",
    "print(f\"Average number of protein: {round(df['protein'].mean(),2)}\")\n",
    "print(f\"Median number of protein: {df['protein'].median()}\")\n",
    "print(f\"Maximum number of protein: {df['protein'].max()}\")\n",
    "plt.hist(df['protein'], bins=25);"
   ]
  },
  {
   "cell_type": "code",
   "execution_count": 27,
   "metadata": {},
   "outputs": [
    {
     "name": "stdout",
     "output_type": "stream",
     "text": [
      "Amount the 191481 chosen recepies: \n",
      "\n",
      "Average number of saturated fat: 30.76\n",
      "Median number of saturated fat: 20.0\n",
      "Maximum number of saturated fat: 471.0\n"
     ]
    },
    {
     "data": {
      "image/png": "[encoded data removed]",
      "text/plain": [
       "<Figure size 432x288 with 1 Axes>"
      ]
     },
     "metadata": {
      "needs_background": "light"
     },
     "output_type": "display_data"
    }
   ],
   "source": [
    "#Distribution of saturated fat\n",
    "print(f\"Amount the {df.shape[0]} chosen recepies: \")\n",
    "print()\n",
    "print(f\"Average number of saturated fat: {round(df['sat_fat'].mean(),2)}\")\n",
    "print(f\"Median number of saturated fat: {df['sat_fat'].median()}\")\n",
    "print(f\"Maximum number of saturated fat: {df['sat_fat'].max()}\")\n",
    "plt.hist(df['sat_fat'], bins=25);"
   ]
  },
  {
   "cell_type": "code",
   "execution_count": 28,
   "metadata": {},
   "outputs": [
    {
     "name": "stdout",
     "output_type": "stream",
     "text": [
      "Amount the 191481 chosen recepies: \n",
      "\n",
      "Average number of carbohydrates: 10.06\n",
      "Median number of carbohydrates: 8.0\n",
      "Maximum number of carbohydrates: 82.0\n"
     ]
    },
    {
     "data": {
      "image/png": "[encoded data removed]",
      "text/plain": [
       "<Figure size 432x288 with 1 Axes>"
      ]
     },
     "metadata": {
      "needs_background": "light"
     },
     "output_type": "display_data"
    }
   ],
   "source": [
    "#Distribution of carbohydrates\n",
    "print(f\"Amount the {df.shape[0]} chosen recepies: \")\n",
    "print()\n",
    "print(f\"Average number of carbohydrates: {round(df['carbs'].mean(),2)}\")\n",
    "print(f\"Median number of carbohydrates: {df['carbs'].median()}\")\n",
    "print(f\"Maximum number of carbohydrates: {df['carbs'].max()}\")\n",
    "plt.hist(df['carbs'], bins=35);"
   ]
  },
  {
   "cell_type": "code",
   "execution_count": 29,
   "metadata": {},
   "outputs": [],
   "source": [
    "#Save this cleaned dataframe to a new .csv file.\n",
    "df.to_csv('organized_recipes.csv', index=False)"
   ]
  },
  {
   "cell_type": "code",
   "execution_count": 30,
   "metadata": {},
   "outputs": [],
   "source": [
    "# Check in gredients change it to a list\n",
    "df['ingredients'] = df['ingredients'].map(lambda s: s.strip('[').strip(']').replace(\"'\", \"\").split(', '))"
   ]
  },
  {
   "cell_type": "code",
   "execution_count": 31,
   "metadata": {},
   "outputs": [
    {
     "data": {
      "image/png": "[encoded data removed]",
      "text/plain": [
       "<Figure size 1152x648 with 1 Axes>"
      ]
     },
     "metadata": {
      "needs_background": "light"
     },
     "output_type": "display_data"
    }
   ],
   "source": [
    "ingredient_list=[]\n",
    "for row in df['ingredients']:\n",
    "    ingredient_list.extend(row)\n",
    "\n",
    "# Plot top 20 ingredients in the recipe data set.\n",
    "plt.figure(figsize=(16,9))\n",
    "plt.barh(pd.Series(ingredient_list).value_counts()[:20].index, pd.Series(ingredient_list).value_counts()[:20].values)\n",
    "plt.gca().invert_yaxis();"
   ]
  },
  {
   "cell_type": "code",
   "execution_count": 32,
   "metadata": {},
   "outputs": [],
   "source": [
    "# create a function to create a column for number of matches.\n",
    "# return 3 most matched recipes.\n",
    "\n",
    "def matches_df(column, df, user_input):    \n",
    "    \n",
    "    matches = []\n",
    "    \n",
    "    # split the entered keywords by comma\n",
    "    import re\n",
    "    keywords = re.split('; |, |,|\\*|\\n',user_input.lower())\n",
    "#     keywords = user_input.lower().split(',')\n",
    "    \n",
    "    # create an empty list to store keywords\n",
    "    keyword_list = []\n",
    "    \n",
    "    for i in range(len(keywords)):\n",
    "        \n",
    "        # remove white space\n",
    "        keywords[i] = keywords[i].strip()\n",
    "#         print(f'User Input: {keywords[i]}\\n')\n",
    "        # append it to keyword_list\n",
    "        keyword_list.append(keywords[i])\n",
    "    \n",
    "    # separate each row\n",
    "    for text in column:\n",
    "        \n",
    "        # initiate 0 as match\n",
    "        match = 0\n",
    "        \n",
    "        # iterate through words in keyword_list\n",
    "        for keyword in keyword_list:\n",
    "            \n",
    "            # if keyword found in text, assign 1 as match\n",
    "            # stop comparing once assigned as 1, then append it to the list\n",
    "            if keyword in text:\n",
    "                match += 1\n",
    "                #print(text)\n",
    "#                 break\n",
    "        matches.append(match)\n",
    "        \n",
    "    df['match'] = matches  \n",
    "    return  df.sort_values(by=['match'], ascending=False).head(3)"
   ]
  },
  {
   "cell_type": "markdown",
   "metadata": {},
   "source": [
    "# NOTE: USER INPUT, YOU NEED TO INPUT INGREDIENT"
   ]
  },
  {
   "cell_type": "code",
   "execution_count": 33,
   "metadata": {},
   "outputs": [
    {
     "name": "stdout",
     "output_type": "stream",
     "text": [
      "Please type in keywords separated by commas:\n",
      "\n",
      "cheese, pepper, salt, onion, eggs, cheese\n"
     ]
    }
   ],
   "source": [
    "print('Please type in keywords separated by commas:\\n')\n",
    "user_input = input()\n",
    "\n",
    "chosen_recipe = matches_df(df['ingredients'], df, user_input)"
   ]
  },
  {
   "cell_type": "code",
   "execution_count": 35,
   "metadata": {},
   "outputs": [
    {
     "data": {
      "text/html": [
       "<div>\n",
       "<style scoped>\n",
       "    .dataframe tbody tr th:only-of-type {\n",
       "        vertical-align: middle;\n",
       "    }\n",
       "\n",
       "    .dataframe tbody tr th {\n",
       "        vertical-align: top;\n",
       "    }\n",
       "\n",
       "    .dataframe thead th {\n",
       "        text-align: right;\n",
       "    }\n",
       "</style>\n",
       "<table border=\"1\" class=\"dataframe\">\n",
       "  <thead>\n",
       "    <tr style=\"text-align: right;\">\n",
       "      <th></th>\n",
       "      <th>name</th>\n",
       "      <th>id</th>\n",
       "      <th>minutes</th>\n",
       "      <th>contributor_id</th>\n",
       "      <th>submitted</th>\n",
       "      <th>tags</th>\n",
       "      <th>nutrition</th>\n",
       "      <th>n_steps</th>\n",
       "      <th>steps</th>\n",
       "      <th>description</th>\n",
       "      <th>ingredients</th>\n",
       "      <th>n_ingredients</th>\n",
       "      <th>calories</th>\n",
       "      <th>total_fat</th>\n",
       "      <th>sugar</th>\n",
       "      <th>sodium</th>\n",
       "      <th>protein</th>\n",
       "      <th>sat_fat</th>\n",
       "      <th>carbs</th>\n",
       "      <th>match</th>\n",
       "    </tr>\n",
       "  </thead>\n",
       "  <tbody>\n",
       "    <tr>\n",
       "      <th>93796</th>\n",
       "      <td>golden chicken squares</td>\n",
       "      <td>113004</td>\n",
       "      <td>75</td>\n",
       "      <td>184723</td>\n",
       "      <td>2005-03-09</td>\n",
       "      <td>['time-to-make', 'course', 'main-ingredient', 'preparation', 'occasion', 'main-dish', 'poultry', 'kid-friendly', 'chicken', 'dietary', 'one-dish-meal', 'comfort-food', 'toddler-friendly', 'meat', 'chicken-breasts', 'taste-mood', '4-hours-or-less']</td>\n",
       "      <td>[404.7, 35.0, 17.0, 59.0, 28.0, 40.0, 11.0]</td>\n",
       "      <td>12</td>\n",
       "      <td>['put half of bread cubes in an 8 x 12\" greased pan', 'combine chicken , onion , mushroom soup , mayo and seasonings', 'spoon over bread cubes', 'top with remaining cubes of bread', 'beat eggs slightly and blend with milk', 'pour over bread', 'at this point , cover and refrigerate overnight if you choose to do so', 'if not , continue with below instructions without refrigerating', 'before baking , top with undiluted cream of chicken soup', 'bake at 325 for 1 hour', 'sprinkle cheese over top ...</td>\n",
       "      <td>yummy! cheesy, easy and wonderful... a kid pleaser! i always use a bit more cheese than it calls for... a mixture of mozzarella and cheddar. i fix it the night before one of those busy days and pop in the oven when i get home... you can also cook immediately.  sooooooooo good.</td>\n",
       "      <td>[white bread, onion, cream of mushroom soup, salt, onion powder, milk, eggs, pepper, cream of chicken soup, chicken, mayonnaise, cheese]</td>\n",
       "      <td>12</td>\n",
       "      <td>404.7</td>\n",
       "      <td>35.0</td>\n",
       "      <td>17.0</td>\n",
       "      <td>59.0</td>\n",
       "      <td>28.0</td>\n",
       "      <td>40.0</td>\n",
       "      <td>11.0</td>\n",
       "      <td>6</td>\n",
       "    </tr>\n",
       "    <tr>\n",
       "      <th>13575</th>\n",
       "      <td>baked breakfast sandwich</td>\n",
       "      <td>33220</td>\n",
       "      <td>90</td>\n",
       "      <td>35140</td>\n",
       "      <td>2002-07-04</td>\n",
       "      <td>['bacon', 'weeknight', 'time-to-make', 'course', 'main-ingredient', 'preparation', 'breakfast', 'lunch', 'eggs-dairy', 'pork', 'cheese', 'eggs', 'dietary', 'sandwiches', 'meat', '4-hours-or-less']</td>\n",
       "      <td>[457.6, 43.0, 16.0, 42.0, 34.0, 50.0, 11.0]</td>\n",
       "      <td>10</td>\n",
       "      <td>['trim and butter bread', 'arrange eight slices buttered side down in 9x13x2 pan', 'cover with sharp grated cheese', 'brown bacon , onion , celery , green pepper , salt and pepper together and pour on top of cheese', 'arrange tomato slices on top of bacon mixture', 'cover with remaining 8 slices bread', 'beat together the eggs , milk and mustard and pour over bread', 'top with more grated cheese', 'let stand overnight', 'bake at 350 for 1 hour']</td>\n",
       "      <td>a traditional southern breakfast served often before or after an early morning hunt. serve with baked grits, coffee, and juice.</td>\n",
       "      <td>[bread, cheese, tomatoes, bacon, onion, celery, green peppers, salt, pepper, eggs, milk, mustard]</td>\n",
       "      <td>12</td>\n",
       "      <td>457.6</td>\n",
       "      <td>43.0</td>\n",
       "      <td>16.0</td>\n",
       "      <td>42.0</td>\n",
       "      <td>34.0</td>\n",
       "      <td>50.0</td>\n",
       "      <td>11.0</td>\n",
       "      <td>6</td>\n",
       "    </tr>\n",
       "    <tr>\n",
       "      <th>188056</th>\n",
       "      <td>skillet corn scramble</td>\n",
       "      <td>394201</td>\n",
       "      <td>15</td>\n",
       "      <td>542159</td>\n",
       "      <td>2009-10-12</td>\n",
       "      <td>['15-minutes-or-less', 'time-to-make', 'course', 'preparation', 'omelets-and-frittatas', 'breakfast', 'dietary', 'low-calorie', 'low-carb', 'low-in-something']</td>\n",
       "      <td>[171.0, 14.0, 12.0, 16.0, 19.0, 16.0, 4.0]</td>\n",
       "      <td>6</td>\n",
       "      <td>['in fry pan , cook bacon until crisp', 'drain on paper towel , reserving 3 tablespoons drippings in fry pan', 'combine remaining ingredients and crumbled bacon', 'pour into fry pan', 'cook over low heat until eggs are set , stirring occasionally', 'sprinkle with cheese if using']</td>\n",
       "      <td>a hearty scrambled egg dish that is good for supper, brunch or breakfast. made this once to twice a week when i was pregnant. i like to add some cheese (parmesan, pepper jack, cheddar all work well)</td>\n",
       "      <td>[bacon, eggs, milk, green pepper, onion, salt, garlic powder, pepper, worcestershire sauce, corn, cheese]</td>\n",
       "      <td>11</td>\n",
       "      <td>171.0</td>\n",
       "      <td>14.0</td>\n",
       "      <td>12.0</td>\n",
       "      <td>16.0</td>\n",
       "      <td>19.0</td>\n",
       "      <td>16.0</td>\n",
       "      <td>4.0</td>\n",
       "      <td>6</td>\n",
       "    </tr>\n",
       "  </tbody>\n",
       "</table>\n",
       "</div>"
      ],
      "text/plain": [
       "                            name      id  minutes  contributor_id   submitted  \\\n",
       "93796     golden chicken squares  113004       75          184723  2005-03-09   \n",
       "13575   baked breakfast sandwich   33220       90           35140  2002-07-04   \n",
       "188056     skillet corn scramble  394201       15          542159  2009-10-12   \n",
       "\n",
       "                                                                                                                                                                                                                                                           tags  \\\n",
       "93796   ['time-to-make', 'course', 'main-ingredient', 'preparation', 'occasion', 'main-dish', 'poultry', 'kid-friendly', 'chicken', 'dietary', 'one-dish-meal', 'comfort-food', 'toddler-friendly', 'meat', 'chicken-breasts', 'taste-mood', '4-hours-or-less']   \n",
       "13575                                                      ['bacon', 'weeknight', 'time-to-make', 'course', 'main-ingredient', 'preparation', 'breakfast', 'lunch', 'eggs-dairy', 'pork', 'cheese', 'eggs', 'dietary', 'sandwiches', 'meat', '4-hours-or-less']   \n",
       "188056                                                                                          ['15-minutes-or-less', 'time-to-make', 'course', 'preparation', 'omelets-and-frittatas', 'breakfast', 'dietary', 'low-calorie', 'low-carb', 'low-in-something']   \n",
       "\n",
       "                                          nutrition  n_steps  \\\n",
       "93796   [404.7, 35.0, 17.0, 59.0, 28.0, 40.0, 11.0]       12   \n",
       "13575   [457.6, 43.0, 16.0, 42.0, 34.0, 50.0, 11.0]       10   \n",
       "188056   [171.0, 14.0, 12.0, 16.0, 19.0, 16.0, 4.0]        6   \n",
       "\n",
       "                                                                                                                                                                                                                                                                                                                                                                                                                                                                                                                      steps  \\\n",
       "93796   ['put half of bread cubes in an 8 x 12\" greased pan', 'combine chicken , onion , mushroom soup , mayo and seasonings', 'spoon over bread cubes', 'top with remaining cubes of bread', 'beat eggs slightly and blend with milk', 'pour over bread', 'at this point , cover and refrigerate overnight if you choose to do so', 'if not , continue with below instructions without refrigerating', 'before baking , top with undiluted cream of chicken soup', 'bake at 325 for 1 hour', 'sprinkle cheese over top ...   \n",
       "13575                                                     ['trim and butter bread', 'arrange eight slices buttered side down in 9x13x2 pan', 'cover with sharp grated cheese', 'brown bacon , onion , celery , green pepper , salt and pepper together and pour on top of cheese', 'arrange tomato slices on top of bacon mixture', 'cover with remaining 8 slices bread', 'beat together the eggs , milk and mustard and pour over bread', 'top with more grated cheese', 'let stand overnight', 'bake at 350 for 1 hour']   \n",
       "188056                                                                                                                                                                                                                            ['in fry pan , cook bacon until crisp', 'drain on paper towel , reserving 3 tablespoons drippings in fry pan', 'combine remaining ingredients and crumbled bacon', 'pour into fry pan', 'cook over low heat until eggs are set , stirring occasionally', 'sprinkle with cheese if using']   \n",
       "\n",
       "                                                                                                                                                                                                                                                                                  description  \\\n",
       "93796   yummy! cheesy, easy and wonderful... a kid pleaser! i always use a bit more cheese than it calls for... a mixture of mozzarella and cheddar. i fix it the night before one of those busy days and pop in the oven when i get home... you can also cook immediately.  sooooooooo good.   \n",
       "13575                                                                                                                                                         a traditional southern breakfast served often before or after an early morning hunt. serve with baked grits, coffee, and juice.   \n",
       "188056                                                                                 a hearty scrambled egg dish that is good for supper, brunch or breakfast. made this once to twice a week when i was pregnant. i like to add some cheese (parmesan, pepper jack, cheddar all work well)   \n",
       "\n",
       "                                                                                                                                     ingredients  \\\n",
       "93796   [white bread, onion, cream of mushroom soup, salt, onion powder, milk, eggs, pepper, cream of chicken soup, chicken, mayonnaise, cheese]   \n",
       "13575                                          [bread, cheese, tomatoes, bacon, onion, celery, green peppers, salt, pepper, eggs, milk, mustard]   \n",
       "188056                                 [bacon, eggs, milk, green pepper, onion, salt, garlic powder, pepper, worcestershire sauce, corn, cheese]   \n",
       "\n",
       "        n_ingredients  calories  total_fat  sugar  sodium  protein  sat_fat  \\\n",
       "93796              12     404.7       35.0   17.0    59.0     28.0     40.0   \n",
       "13575              12     457.6       43.0   16.0    42.0     34.0     50.0   \n",
       "188056             11     171.0       14.0   12.0    16.0     19.0     16.0   \n",
       "\n",
       "        carbs  match  \n",
       "93796    11.0      6  \n",
       "13575    11.0      6  \n",
       "188056    4.0      6  "
      ]
     },
     "execution_count": 35,
     "metadata": {},
     "output_type": "execute_result"
    }
   ],
   "source": [
    "chosen_recipe"
   ]
  },
  {
   "cell_type": "code",
   "execution_count": null,
   "metadata": {},
   "outputs": [],
   "source": []
  }
 ],
 "metadata": {
  "kernelspec": {
   "display_name": "Python 3",
   "language": "python",
   "name": "python3"
  },
  "language_info": {
   "codemirror_mode": {
    "name": "ipython",
    "version": 3
   },
   "file_extension": ".py",
   "mimetype": "text/x-python",
   "name": "python",
   "nbconvert_exporter": "python",
   "pygments_lexer": "ipython3",
   "version": "3.7.7"
  }
 },
 "nbformat": 4,
 "nbformat_minor": 4
}
